{
 "cells": [
  {
   "cell_type": "markdown",
   "metadata": {},
   "source": [
    "# SQL to Python\n",
    "--------------------------------------\n",
    "This notebook is for people with a solid undertsanding of SQL, trying to make a switch to Python for data science.\n",
    "\n",
    "It shows how common SQL commands can be written in Python, and also shows how to start moving beyond just what you can do in SQL.\n",
    "\n",
    "This notebook focuses on using Python for data analytics, with suggestions for further work later on.\n",
    "\n",
    "I encourage you to take this notebook and run with it! Think of your own questions, and play around with the SQLite queries and Python code. You will learn much more trying to answer your own questions!"
   ]
  },
  {
   "cell_type": "code",
   "execution_count": null,
   "metadata": {
    "collapsed": true
   },
   "outputs": [],
   "source": [
    "# importing pandas, a \"SQL-like\" Python library with dataframe objects built in.\n",
    "import pandas as pd"
   ]
  },
  {
   "cell_type": "markdown",
   "metadata": {},
   "source": [
    "Dataset is from kaggle.\n",
    "https://www.kaggle.com/carrie1/ecommerce-data. You don't have to download it though, as it is already in the repo folder."
   ]
  },
  {
   "cell_type": "code",
   "execution_count": null,
   "metadata": {
    "collapsed": true
   },
   "outputs": [],
   "source": [
    "# Using pandas \"read_csv' function to load the data.\n",
    "data = pd.read_csv('ecommerce_data.csv', index_col=0, parse_dates=True)"
   ]
  },
  {
   "cell_type": "markdown",
   "metadata": {},
   "source": [
    "Our data is e-commerce data from an e-commerce shop based in the UK. Most of the customers the company sells to are wholesalers."
   ]
  },
  {
   "cell_type": "code",
   "execution_count": null,
   "metadata": {},
   "outputs": [],
   "source": [
    "data.head()"
   ]
  },
  {
   "cell_type": "markdown",
   "metadata": {},
   "source": [
    "## Making a local, server-less SQL database\n",
    "[SQLite](https://www.sqlite.org/whentouse.html) is an easy-to-use SQL database system, that lets an entire database live in just one file on your computer, no server needed.\n",
    "\n",
    "Here, we will make our own SQLite database in the repo folder, and populate with the same e-commerce data we just read into a pandas dataframe.\n",
    "This way, we will be able to compare SQL commands (called to an actual SQL database) with their Python equvilents on the same data."
   ]
  },
  {
   "cell_type": "code",
   "execution_count": null,
   "metadata": {
    "collapsed": true
   },
   "outputs": [],
   "source": [
    "import sqlite3, os, os.path"
   ]
  },
  {
   "cell_type": "code",
   "execution_count": null,
   "metadata": {},
   "outputs": [],
   "source": [
    "# Seeing where our SQL database will be created.\n",
    "os.getcwd()"
   ]
  },
  {
   "cell_type": "code",
   "execution_count": null,
   "metadata": {
    "collapsed": true
   },
   "outputs": [],
   "source": [
    "# Checking to see if a database with the same name already exists.\n",
    "if os.path.isfile(\"E_commerce_data.db\"):\n",
    "    os.remove(\"E_commerce_data.db\")\n",
    "\n",
    "# Creating our new database, called E_commerce_data.db, and establishing a connection to it.\n",
    "# We name this connection \"conn\". We will need to specify that connection in every SQL command we run,\n",
    "# so that the queries are run on the correct database.\n",
    "conn = sqlite3.connect(\"E_commerce_data.db\")"
   ]
  },
  {
   "cell_type": "code",
   "execution_count": null,
   "metadata": {
    "collapsed": true
   },
   "outputs": [],
   "source": [
    "# formatting the invoice date\n",
    "data['InvoiceDate'] = pd.to_datetime(data['InvoiceDate'], format=\"%m/%d/%Y %H:%M\")"
   ]
  },
  {
   "cell_type": "code",
   "execution_count": null,
   "metadata": {
    "collapsed": true
   },
   "outputs": [],
   "source": [
    "# populating our new SQL database with the data from our dataframe.\n",
    "data.to_sql('data', conn, if_exists='replace', index=False)"
   ]
  },
  {
   "cell_type": "markdown",
   "metadata": {},
   "source": [
    "Taking an initial look at our data. "
   ]
  },
  {
   "cell_type": "markdown",
   "metadata": {},
   "source": [
    "We have ~40,000 records."
   ]
  },
  {
   "cell_type": "code",
   "execution_count": null,
   "metadata": {},
   "outputs": [],
   "source": [
    "data.describe()"
   ]
  },
  {
   "cell_type": "markdown",
   "metadata": {},
   "source": [
    "Of this, about 36,000 of them are from the UK."
   ]
  },
  {
   "cell_type": "code",
   "execution_count": null,
   "metadata": {},
   "outputs": [],
   "source": [
    "data[data['Country']=='United Kingdom'].describe()"
   ]
  },
  {
   "cell_type": "markdown",
   "metadata": {},
   "source": [
    "Describe will calculate summary statistics for all of the numeric columns.\n",
    "It is also a good way to see if there are non-numeric columns that are being misclassified. \n",
    "\"Customer ID\", which is made up of numbers, was throught to be a numeric column when the CSV was read."
   ]
  },
  {
   "cell_type": "markdown",
   "metadata": {},
   "source": [
    "### Question 1: How many countries does are company sell to?"
   ]
  },
  {
   "cell_type": "code",
   "execution_count": null,
   "metadata": {},
   "outputs": [],
   "source": [
    "len(data['Country'].unique())\n",
    "\n",
    "# or:\n",
    "\n",
    "len(set(data['Country']))"
   ]
  },
  {
   "cell_type": "code",
   "execution_count": null,
   "metadata": {
    "scrolled": true
   },
   "outputs": [],
   "source": [
    "pd.read_sql_query(\"\"\"\n",
    "SELECT COUNT(DISTINCT Country)\n",
    "FROM data\n",
    "\"\"\", conn)"
   ]
  },
  {
   "cell_type": "markdown",
   "metadata": {},
   "source": [
    "### Question 2: What are our top 10 countries in terms of items sold?"
   ]
  },
  {
   "cell_type": "code",
   "execution_count": null,
   "metadata": {},
   "outputs": [],
   "source": [
    "data.groupby(['Country']).Quantity.sum().sort_values(ascending=False).head(10)"
   ]
  },
  {
   "cell_type": "code",
   "execution_count": null,
   "metadata": {},
   "outputs": [],
   "source": [
    "pd.read_sql_query(\"\"\"\n",
    "SELECT Country, SUM(Quantity)\n",
    "FROM data\n",
    "GROUP BY Country\n",
    "ORDER BY SUM(Quantity) desc\n",
    "LIMIT 10\n",
    "\"\"\", conn)"
   ]
  },
  {
   "cell_type": "markdown",
   "metadata": {},
   "source": [
    "\n",
    "### Question 3: How much money did we make on stickers in 2017?"
   ]
  },
  {
   "cell_type": "code",
   "execution_count": null,
   "metadata": {},
   "outputs": [],
   "source": [
    "stickers = data[data['Description'].str.contains(\"STICKER SHEET\")==True].reset_index()\n",
    "stickers['Revenue'] = stickers['Quantity'] * stickers['UnitPrice']\n",
    "stickers['Revenue'].sum()"
   ]
  },
  {
   "cell_type": "code",
   "execution_count": null,
   "metadata": {},
   "outputs": [],
   "source": [
    "pd.read_sql_query(\"\"\"\n",
    "SELECT SUM(UnitPrice * Quantity)\n",
    "FROM data\n",
    "WHERE Description LIKE \"%STICKER SHEET%\"\n",
    "\"\"\", conn)"
   ]
  },
  {
   "cell_type": "markdown",
   "metadata": {},
   "source": [
    "### Question 4: How much money did we make in 2011 in the UK?"
   ]
  },
  {
   "cell_type": "code",
   "execution_count": null,
   "metadata": {},
   "outputs": [],
   "source": [
    "uk_2011 = data.loc[(data['Country']=='United Kingdom') & (data['InvoiceDate'].dt.year==2011)] \n",
    "sum(uk_2011['UnitPrice'] * uk_2011['Quantity'])"
   ]
  },
  {
   "cell_type": "code",
   "execution_count": null,
   "metadata": {},
   "outputs": [],
   "source": [
    "# SQLite doesn't have a year() function, so we have to get creative. \n",
    "# In the WHERE clause of our query, we have to format the date to just include its year component.\n",
    "# You can read about date formats in SQLite here: https://www.tutorialspoint.com/sqlite/sqlite_date_time.html\n",
    "pd.read_sql_query(\"\"\"\n",
    "SELECT SUM(UnitPrice * Quantity)\n",
    "FROM data\n",
    "WHERE Country = \"United Kingdom\" AND strftime('%Y', InvoiceDate) = '2011'\n",
    "\"\"\", conn)"
   ]
  },
  {
   "cell_type": "markdown",
   "metadata": {},
   "source": [
    "  "
   ]
  },
  {
   "cell_type": "markdown",
   "metadata": {},
   "source": [
    "## What you can't do with SQL: more advanced analytics and visualizations"
   ]
  },
  {
   "cell_type": "markdown",
   "metadata": {},
   "source": [
    "Starting: Building a Customer Segmentation"
   ]
  },
  {
   "cell_type": "code",
   "execution_count": null,
   "metadata": {},
   "outputs": [],
   "source": [
    "data['Revenue'] = data['UnitPrice'] * data['Quantity']"
   ]
  },
  {
   "cell_type": "code",
   "execution_count": null,
   "metadata": {
    "collapsed": true
   },
   "outputs": [],
   "source": [
    "# removing canceled orders\n",
    "data = data[data['Revenue'] > 0]"
   ]
  },
  {
   "cell_type": "markdown",
   "metadata": {},
   "source": [
    "Step 1: group orders together by customer, aggregating the total number of orders they made, total quantity of all goods they've purchased, and total revenue gained."
   ]
  },
  {
   "cell_type": "code",
   "execution_count": null,
   "metadata": {
    "collapsed": true
   },
   "outputs": [],
   "source": [
    "def create_customer_table(df):\n",
    "    # Groups purchasing data by customer ID.\n",
    "    \n",
    "    # create number_orders df\n",
    "    customer_df = df.groupby(by='CustomerID', as_index=False)['InvoiceNo'].count()\n",
    "    \n",
    "    # create total metrics: sum of float values\n",
    "    for indicator in ['Quantity', 'Revenue']:\n",
    "        new_col = df.groupby(by='CustomerID', as_index=False)[indicator].sum()\n",
    "        customer_df = customer_df.merge(new_col, how='inner', right_on='CustomerID', left_on='CustomerID')\n",
    "    \n",
    "    customer_df.columns = ['CustomerID', 'NumberOrders', 'TotalQuantity', 'TotalRevenue']\n",
    "    \n",
    "    return customer_df"
   ]
  },
  {
   "cell_type": "code",
   "execution_count": null,
   "metadata": {},
   "outputs": [],
   "source": [
    "customer_df = create_customer_table(data)\n",
    "customer_df.tail()"
   ]
  },
  {
   "cell_type": "markdown",
   "metadata": {},
   "source": [
    "Step 2: Calculating some additional metrics"
   ]
  },
  {
   "cell_type": "code",
   "execution_count": null,
   "metadata": {
    "collapsed": true
   },
   "outputs": [],
   "source": [
    "def calculate_customer_loyalty_metris(customer_df, df):\n",
    "    # Step 1: create df with groupby for both the min and max invoice dates.\n",
    "    first_order = df.groupby(by='CustomerID', as_index=False)['InvoiceDate'].min()\n",
    "    first_order.columns = ['CustomerID', 'FirstOrder']\n",
    "    \n",
    "    last_order = df.groupby(by='CustomerID', as_index=False)['InvoiceDate'].max()\n",
    "    last_order.columns = ['CustomerID', 'LastOrder']\n",
    "    \n",
    "    # Using a merge to combine the 2. This is just like a join in SQL.\n",
    "    customer_metrics = first_order.merge(last_order, how='inner', right_on='CustomerID', left_on='CustomerID')\n",
    "    \n",
    "    # Adding column to use when calculating\n",
    "    customer_metrics['Current'] = pd.to_datetime((df['InvoiceDate']).max())\n",
    "    customer_metrics['CustomerTimeLength'] = 1 + (customer_metrics['Current']\n",
    "                                                  - customer_metrics['FirstOrder']).astype('timedelta64[D]')\n",
    "\n",
    "    customer_metrics['DaysSinceLastOrder'] = 1 + (customer_metrics['Current'] -\n",
    "                                                 customer_metrics['LastOrder']).astype('timedelta64[D]')\n",
    "\n",
    "    # dropping column we only used in calculating\n",
    "    customer_metrics.drop(['Current', 'FirstOrder', 'LastOrder'], axis=1, inplace=True)\n",
    "    \n",
    "    # joining the table with the customer_df table\n",
    "    customer_df = customer_df.merge(customer_metrics, how='inner', right_on='CustomerID', left_on='CustomerID')\n",
    "\n",
    "    return customer_df"
   ]
  },
  {
   "cell_type": "code",
   "execution_count": null,
   "metadata": {},
   "outputs": [],
   "source": [
    "customer_df = calculate_customer_loyalty_metris(customer_df, data)\n",
    "\n",
    "# using iloc to select a random few rows to look at.\n",
    "customer_df.iloc[3:10]"
   ]
  },
  {
   "cell_type": "markdown",
   "metadata": {},
   "source": [
    "Now, we have more metrics to look into.\n",
    "\n",
    "We can look at the average of each of these metrics, and define categories with them."
   ]
  },
  {
   "cell_type": "code",
   "execution_count": null,
   "metadata": {},
   "outputs": [],
   "source": [
    "customer_df.describe()"
   ]
  },
  {
   "cell_type": "markdown",
   "metadata": {},
   "source": [
    "For most of the metrics, the mean far exceeds the median. This means that there are probably a few big customers (outliers) oredering a lot, and providing a lot more business than the average."
   ]
  },
  {
   "cell_type": "code",
   "execution_count": null,
   "metadata": {
    "collapsed": true
   },
   "outputs": [],
   "source": [
    "def check_for_outliers(row, metric, cutoff):\n",
    "    # helper function for creating customer segments\n",
    "    if row[metric] > cutoff:\n",
    "        return 'Yes'\n",
    "    else:\n",
    "        return 'No'\n",
    "\n",
    "def create_customer_segments(customer_df):\n",
    "    for metric in list(customer_df.columns)[1:]:\n",
    "        cutoff = customer_df[metric].mean()\n",
    "        customer_df[metric + 'Outlier'] = customer_df.apply(lambda x: check_for_outliers(x, metric, cutoff), axis=1)\n",
    "    return customer_df"
   ]
  },
  {
   "cell_type": "code",
   "execution_count": null,
   "metadata": {},
   "outputs": [],
   "source": [
    "customer_df = create_customer_segments(customer_df)\n",
    "\n",
    "customer_df.iloc[10:15]"
   ]
  },
  {
   "cell_type": "markdown",
   "metadata": {},
   "source": [
    "If a customer has a higher-than-average number of orders, total quantity, and total revenue, and has been a customer for longer than the average, we can call them a \"Best Customer\". If the customer's time since last order is greater than the average, we can assume they are an inactive customer. We will make a final column called \"Customer Segments\" where we place customers into one of 3 segments: a Best Customer, an Inactive Customer, and an Average Customer."
   ]
  },
  {
   "cell_type": "code",
   "execution_count": null,
   "metadata": {},
   "outputs": [],
   "source": [
    "def classify_customers(row):\n",
    "    # helper function for creating customer classifications\n",
    "    if (row['NumberOrdersOutlier'] == 'Yes' \n",
    "        and row['TotalQuantityOutlier'] == 'Yes' \n",
    "        and row['TotalRevenueOutlier'] == 'Yes' \n",
    "        and row['CustomerTimeLengthOutlier'] == 'Yes'):\n",
    "        \n",
    "        return 'Best Customer'\n",
    "    \n",
    "    elif row['DaysSinceLastOrderOutlier'] == 'Yes':\n",
    "        return 'Inactive Customer'\n",
    "    \n",
    "    else:\n",
    "        return 'Average Customer'\n",
    "\n",
    "    \n",
    "def create_customer_classifications(customer_df):\n",
    "    customer_df['CustomerSegment'] = customer_df.apply(classify_customers, axis=1)\n",
    "    return customer_df"
   ]
  },
  {
   "cell_type": "code",
   "execution_count": null,
   "metadata": {},
   "outputs": [],
   "source": [
    "customer_df = create_customer_classifications(customer_df)\n",
    "\n",
    "customer_df.iloc[0:5]"
   ]
  },
  {
   "cell_type": "markdown",
   "metadata": {},
   "source": [
    "Now, we can do some visualizations with the data.\n",
    "\n",
    "We will use [Seaborn](https://seaborn.pydata.org/index.html), a great Python library for making visualizations."
   ]
  },
  {
   "cell_type": "code",
   "execution_count": null,
   "metadata": {
    "collapsed": true
   },
   "outputs": [],
   "source": [
    "import seaborn as sns\n",
    "import matplotlib.pyplot as plt\n",
    "%matplotlib inline"
   ]
  },
  {
   "cell_type": "code",
   "execution_count": null,
   "metadata": {},
   "outputs": [],
   "source": [
    "sorted_customer_df = customer_df.sort_values(by='TotalRevenue')\n",
    "sorted_customer_df.reset_index(inplace=True)\n",
    "sorted_customer_df['index'] = sorted_customer_df.index"
   ]
  },
  {
   "cell_type": "code",
   "execution_count": null,
   "metadata": {},
   "outputs": [],
   "source": [
    "plt.rcParams[\"figure.figsize\"] = (20,10)\n",
    "col = sorted_customer_df['CustomerSegment'].map({'Best Customer':'r', 'Average Customer':'b', 'Inactive Customer':'black'})\n",
    "sorted_customer_df.plot.scatter(x='index', y='NumberOrders', c=col);"
   ]
  },
  {
   "cell_type": "code",
   "execution_count": null,
   "metadata": {},
   "outputs": [],
   "source": [
    "sns.set(style='ticks', font_scale = 1.2, rc={'lines.linewidth':0.0})\n",
    "g = sns.relplot(x=sorted_customer_df.index,\n",
    "                y=\"NumberOrders\",\n",
    "                hue=\"CustomerSegment\",\n",
    "                data=sorted_customer_df,\n",
    "                height=12,\n",
    "                facet_kws={'hue_kws':{'markers':'.', 'edgecolor':'None'}})\n",
    "g;"
   ]
  },
  {
   "cell_type": "code",
   "execution_count": null,
   "metadata": {},
   "outputs": [],
   "source": [
    "sns.axes_style()"
   ]
  },
  {
   "cell_type": "code",
   "execution_count": null,
   "metadata": {
    "collapsed": true
   },
   "outputs": [],
   "source": []
  },
  {
   "cell_type": "code",
   "execution_count": null,
   "metadata": {
    "collapsed": true
   },
   "outputs": [],
   "source": []
  },
  {
   "cell_type": "code",
   "execution_count": null,
   "metadata": {
    "collapsed": true
   },
   "outputs": [],
   "source": []
  },
  {
   "cell_type": "code",
   "execution_count": null,
   "metadata": {
    "collapsed": true
   },
   "outputs": [],
   "source": []
  }
 ],
 "metadata": {
  "kernelspec": {
   "display_name": "Python 3",
   "language": "python",
   "name": "python3"
  },
  "language_info": {
   "codemirror_mode": {
    "name": "ipython",
    "version": 3
   },
   "file_extension": ".py",
   "mimetype": "text/x-python",
   "name": "python",
   "nbconvert_exporter": "python",
   "pygments_lexer": "ipython3",
   "version": "3.6.3"
  }
 },
 "nbformat": 4,
 "nbformat_minor": 2
}
